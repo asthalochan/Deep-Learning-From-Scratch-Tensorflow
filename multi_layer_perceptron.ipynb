{
  "nbformat": 4,
  "nbformat_minor": 0,
  "metadata": {
    "colab": {
      "provenance": []
    },
    "kernelspec": {
      "name": "python3",
      "display_name": "Python 3"
    },
    "language_info": {
      "name": "python"
    }
  },
  "cells": [
    {
      "cell_type": "code",
      "source": [
        "import numpy as np\n"
      ],
      "metadata": {
        "id": "dtVMDOffLka-"
      },
      "execution_count": 1,
      "outputs": []
    },
    {
      "cell_type": "code",
      "execution_count": 2,
      "metadata": {
        "id": "9T6QBVx0KyV9"
      },
      "outputs": [],
      "source": [
        "\n",
        "class MLP:\n",
        "    def __init__(self, num_inputs=3, hidden_layer=[3, 3], num_outputs=2):\n",
        "        self.num_inputs = num_inputs\n",
        "        self.hidden_layer = hidden_layer\n",
        "        self.num_outputs = num_outputs\n",
        "\n",
        "        layers = [num_inputs] + hidden_layer + [num_outputs]\n",
        "\n",
        "        weights = []\n",
        "        for i in range(len(layers) - 1):\n",
        "            w = np.random.rand(layers[i], layers[i + 1])\n",
        "            weights.append(w)\n",
        "        self.weights = weights\n",
        "\n",
        "        activations = []\n",
        "        for i in range(len(layers)):\n",
        "            a = np.zeros(layers[i])\n",
        "            activations.append(a)\n",
        "        self.activations = activations\n",
        "\n",
        "    def _sigmoid(self, x):\n",
        "        return 1.0 / (1 + np.exp(-x))\n",
        "\n",
        "    def forward_propagate(self, inputs):\n",
        "        activations = inputs\n",
        "        self.activations[0] = activations\n",
        "\n",
        "        for i, w in enumerate(self.weights):\n",
        "            net_inputs = np.dot(activations, w)\n",
        "            activations = self._sigmoid(net_inputs)\n",
        "\n",
        "            self.activations[i + 1] = activations\n",
        "\n",
        "        return activations\n",
        "\n",
        "\n"
      ]
    },
    {
      "cell_type": "code",
      "source": [
        "\n",
        "mlp = MLP(2, [5], 1)\n",
        "\n",
        "input_data = np.array([0.3, 0.1])\n",
        "output_data = mlp.forward_propagate(input_data)\n",
        "\n",
        "print(\"\\nOutput from the forward pass:\")\n",
        "print(output_data)"
      ],
      "metadata": {
        "colab": {
          "base_uri": "https://localhost:8080/"
        },
        "id": "s_bfEUh_Lo3m",
        "outputId": "d8994560-04d0-4923-831c-edcc486e88ee"
      },
      "execution_count": 4,
      "outputs": [
        {
          "output_type": "stream",
          "name": "stdout",
          "text": [
            "\n",
            "Output from the forward pass:\n",
            "[0.7821812]\n"
          ]
        }
      ]
    }
  ]
}