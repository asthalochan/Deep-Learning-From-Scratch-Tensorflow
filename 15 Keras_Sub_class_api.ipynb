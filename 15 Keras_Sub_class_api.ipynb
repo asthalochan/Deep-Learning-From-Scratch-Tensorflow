{
  "nbformat": 4,
  "nbformat_minor": 0,
  "metadata": {
    "colab": {
      "provenance": []
    },
    "kernelspec": {
      "name": "python3",
      "display_name": "Python 3"
    },
    "language_info": {
      "name": "python"
    }
  },
  "cells": [
    {
      "cell_type": "markdown",
      "source": [
        "**Keras Sub class Api**"
      ],
      "metadata": {
        "id": "3r3uqZir2cXU"
      }
    },
    {
      "cell_type": "code",
      "execution_count": null,
      "metadata": {
        "id": "QhdeiZf0u3d-"
      },
      "outputs": [],
      "source": [
        "import tensorflow as tf\n",
        "from tensorflow import keras\n",
        "import numpy as np\n",
        "import matplotlib.pyplot as plt\n",
        "from sklearn.datasets import fetch_california_housing\n",
        "from sklearn.preprocessing import StandardScaler\n",
        "from sklearn.model_selection import train_test_split"
      ]
    },
    {
      "cell_type": "code",
      "source": [
        "housing = fetch_california_housing()\n"
      ],
      "metadata": {
        "id": "yIdljrptxXBn"
      },
      "execution_count": null,
      "outputs": []
    },
    {
      "cell_type": "code",
      "source": [
        "X_train_full, X_test, y_train_full, y_test = train_test_split(housing.data, housing.target)\n",
        "X_train, X_valid, y_train, y_valid = train_test_split(X_train_full, y_train_full)"
      ],
      "metadata": {
        "id": "Rie7oiLLxare"
      },
      "execution_count": null,
      "outputs": []
    },
    {
      "cell_type": "code",
      "source": [
        "scaler = StandardScaler()\n",
        "X_train = scaler.fit_transform(X_train)\n",
        "X_valid = scaler.transform(X_valid)\n",
        "X_test = scaler.transform(X_test)"
      ],
      "metadata": {
        "id": "Zth6jsStxcqN"
      },
      "execution_count": null,
      "outputs": []
    },
    {
      "cell_type": "code",
      "source": [
        "class WideAndDeepModel(keras.Model):\n",
        "    def __init__(self, units=30, activation=\"relu\"):\n",
        "        super().__init__()\n",
        "        self.hidden1 = keras.layers.Dense(units, activation=activation)\n",
        "        self.hidden2 = keras.layers.Dense(units, activation=activation)\n",
        "        self.main_output = keras.layers.Dense(1)\n",
        "        self.aux_output = keras.layers.Dense(1)\n",
        "\n",
        "    def call(self, inputs):\n",
        "        input_A, input_B = inputs\n",
        "        hidden1 = self.hidden1(input_B)\n",
        "        hidden2 = self.hidden2(hidden1)\n",
        "        concat = keras.layers.Concatenate()([input_A, hidden2])\n",
        "        main_output = self.main_output(concat)\n",
        "        aux_output = self.aux_output(hidden2)\n",
        "        return main_output, aux_output\n",
        "model = WideAndDeepModel()"
      ],
      "metadata": {
        "id": "ohfpwvFdxfUF"
      },
      "execution_count": null,
      "outputs": []
    },
    {
      "cell_type": "code",
      "source": [
        "model.compile(loss=[\"mse\", \"mse\"], loss_weights=[0.9, 0.1], optimizer=\"sgd\")\n"
      ],
      "metadata": {
        "id": "Q1pK34D9xoX9"
      },
      "execution_count": null,
      "outputs": []
    },
    {
      "cell_type": "code",
      "source": [
        "X_train_A, X_train_B = X_train[:, :5], X_train[:, 2:]\n",
        "X_valid_A, X_valid_B = X_valid[:, :5], X_valid[:, 2:]\n",
        "\n",
        "X_test_A, X_test_B = X_test[:, :5], X_test[:, 2:]\n",
        "X_new_A, X_new_B = X_test_A[:3], X_test_B[:3]\n"
      ],
      "metadata": {
        "id": "hriCWWq-yKq2"
      },
      "execution_count": null,
      "outputs": []
    },
    {
      "cell_type": "code",
      "source": [
        "history = model.fit([X_train_A, X_train_B], [y_train, y_train], epochs=40, validation_data=([X_valid_A, X_valid_B], [y_valid, y_valid]))\n"
      ],
      "metadata": {
        "colab": {
          "base_uri": "https://localhost:8080/"
        },
        "id": "Hh03USPF0Fre",
        "outputId": "dfce7875-a01a-46ff-bab2-80cbf1554118"
      },
      "execution_count": null,
      "outputs": [
        {
          "output_type": "stream",
          "name": "stdout",
          "text": [
            "Epoch 1/40\n",
            "363/363 [==============================] - 5s 9ms/step - loss: 1.0406 - output_1_loss: 0.8777 - output_2_loss: 2.5069 - val_loss: 0.6023 - val_output_1_loss: 0.5292 - val_output_2_loss: 1.2602\n",
            "Epoch 2/40\n",
            "363/363 [==============================] - 2s 5ms/step - loss: 0.6183 - output_1_loss: 0.5501 - output_2_loss: 1.2320 - val_loss: 0.5308 - val_output_1_loss: 0.4681 - val_output_2_loss: 1.0957\n",
            "Epoch 3/40\n",
            "363/363 [==============================] - 2s 7ms/step - loss: 0.5368 - output_1_loss: 0.4767 - output_2_loss: 1.0769 - val_loss: 0.5006 - val_output_1_loss: 0.4490 - val_output_2_loss: 0.9645\n",
            "Epoch 4/40\n",
            "363/363 [==============================] - 3s 7ms/step - loss: 0.5058 - output_1_loss: 0.4559 - output_2_loss: 0.9555 - val_loss: 0.4793 - val_output_1_loss: 0.4370 - val_output_2_loss: 0.8601\n",
            "Epoch 5/40\n",
            "363/363 [==============================] - 3s 9ms/step - loss: 0.4860 - output_1_loss: 0.4442 - output_2_loss: 0.8615 - val_loss: 0.4652 - val_output_1_loss: 0.4298 - val_output_2_loss: 0.7843\n",
            "Epoch 6/40\n",
            "363/363 [==============================] - 5s 14ms/step - loss: 0.4698 - output_1_loss: 0.4346 - output_2_loss: 0.7865 - val_loss: 0.4458 - val_output_1_loss: 0.4143 - val_output_2_loss: 0.7301\n",
            "Epoch 7/40\n",
            "363/363 [==============================] - 2s 7ms/step - loss: 0.4562 - output_1_loss: 0.4255 - output_2_loss: 0.7324 - val_loss: 0.4459 - val_output_1_loss: 0.4190 - val_output_2_loss: 0.6872\n",
            "Epoch 8/40\n",
            "363/363 [==============================] - 2s 6ms/step - loss: 0.4610 - output_1_loss: 0.4348 - output_2_loss: 0.6975 - val_loss: 0.4320 - val_output_1_loss: 0.4068 - val_output_2_loss: 0.6590\n",
            "Epoch 9/40\n",
            "363/363 [==============================] - 2s 5ms/step - loss: 0.4368 - output_1_loss: 0.4112 - output_2_loss: 0.6672 - val_loss: 0.4316 - val_output_1_loss: 0.4082 - val_output_2_loss: 0.6425\n",
            "Epoch 10/40\n",
            "363/363 [==============================] - 3s 7ms/step - loss: 0.4314 - output_1_loss: 0.4075 - output_2_loss: 0.6465 - val_loss: 0.4135 - val_output_1_loss: 0.3897 - val_output_2_loss: 0.6278\n",
            "Epoch 11/40\n",
            "363/363 [==============================] - 4s 10ms/step - loss: 0.4218 - output_1_loss: 0.3986 - output_2_loss: 0.6300 - val_loss: 0.4120 - val_output_1_loss: 0.3894 - val_output_2_loss: 0.6153\n",
            "Epoch 12/40\n",
            "363/363 [==============================] - 3s 8ms/step - loss: 0.4119 - output_1_loss: 0.3894 - output_2_loss: 0.6140 - val_loss: 0.3990 - val_output_1_loss: 0.3766 - val_output_2_loss: 0.6008\n",
            "Epoch 13/40\n",
            "363/363 [==============================] - 1s 3ms/step - loss: 0.4079 - output_1_loss: 0.3865 - output_2_loss: 0.6007 - val_loss: 0.3947 - val_output_1_loss: 0.3735 - val_output_2_loss: 0.5858\n",
            "Epoch 14/40\n",
            "363/363 [==============================] - 1s 3ms/step - loss: 0.4007 - output_1_loss: 0.3797 - output_2_loss: 0.5905 - val_loss: 0.4075 - val_output_1_loss: 0.3881 - val_output_2_loss: 0.5823\n",
            "Epoch 15/40\n",
            "363/363 [==============================] - 1s 3ms/step - loss: 0.3935 - output_1_loss: 0.3729 - output_2_loss: 0.5786 - val_loss: 0.3834 - val_output_1_loss: 0.3630 - val_output_2_loss: 0.5672\n",
            "Epoch 16/40\n",
            "363/363 [==============================] - 1s 3ms/step - loss: 0.3939 - output_1_loss: 0.3744 - output_2_loss: 0.5693 - val_loss: 0.3765 - val_output_1_loss: 0.3567 - val_output_2_loss: 0.5544\n",
            "Epoch 17/40\n",
            "363/363 [==============================] - 1s 3ms/step - loss: 0.3826 - output_1_loss: 0.3630 - output_2_loss: 0.5584 - val_loss: 0.3718 - val_output_1_loss: 0.3523 - val_output_2_loss: 0.5475\n",
            "Epoch 18/40\n",
            "363/363 [==============================] - 1s 3ms/step - loss: 0.3844 - output_1_loss: 0.3657 - output_2_loss: 0.5530 - val_loss: 0.3845 - val_output_1_loss: 0.3667 - val_output_2_loss: 0.5442\n",
            "Epoch 19/40\n",
            "363/363 [==============================] - 1s 3ms/step - loss: 0.3768 - output_1_loss: 0.3582 - output_2_loss: 0.5450 - val_loss: 0.4056 - val_output_1_loss: 0.3895 - val_output_2_loss: 0.5507\n",
            "Epoch 20/40\n",
            "363/363 [==============================] - 1s 3ms/step - loss: 0.3844 - output_1_loss: 0.3666 - output_2_loss: 0.5445 - val_loss: 0.3711 - val_output_1_loss: 0.3516 - val_output_2_loss: 0.5470\n",
            "Epoch 21/40\n",
            "363/363 [==============================] - 2s 4ms/step - loss: 0.3748 - output_1_loss: 0.3574 - output_2_loss: 0.5313 - val_loss: 0.3611 - val_output_1_loss: 0.3427 - val_output_2_loss: 0.5269\n",
            "Epoch 22/40\n",
            "363/363 [==============================] - 1s 4ms/step - loss: 0.3696 - output_1_loss: 0.3524 - output_2_loss: 0.5240 - val_loss: 0.3661 - val_output_1_loss: 0.3488 - val_output_2_loss: 0.5222\n",
            "Epoch 23/40\n",
            "363/363 [==============================] - 1s 4ms/step - loss: 0.3649 - output_1_loss: 0.3479 - output_2_loss: 0.5183 - val_loss: 0.3883 - val_output_1_loss: 0.3742 - val_output_2_loss: 0.5152\n",
            "Epoch 24/40\n",
            "363/363 [==============================] - 1s 3ms/step - loss: 0.3619 - output_1_loss: 0.3448 - output_2_loss: 0.5157 - val_loss: 0.3556 - val_output_1_loss: 0.3386 - val_output_2_loss: 0.5088\n",
            "Epoch 25/40\n",
            "363/363 [==============================] - 1s 3ms/step - loss: 0.3584 - output_1_loss: 0.3419 - output_2_loss: 0.5075 - val_loss: 0.3485 - val_output_1_loss: 0.3320 - val_output_2_loss: 0.4967\n",
            "Epoch 26/40\n",
            "363/363 [==============================] - 1s 3ms/step - loss: 0.3574 - output_1_loss: 0.3410 - output_2_loss: 0.5052 - val_loss: 0.3464 - val_output_1_loss: 0.3303 - val_output_2_loss: 0.4913\n",
            "Epoch 27/40\n",
            "363/363 [==============================] - 1s 3ms/step - loss: 0.3533 - output_1_loss: 0.3372 - output_2_loss: 0.4989 - val_loss: 0.3666 - val_output_1_loss: 0.3520 - val_output_2_loss: 0.4986\n",
            "Epoch 28/40\n",
            "363/363 [==============================] - 1s 3ms/step - loss: 0.3509 - output_1_loss: 0.3353 - output_2_loss: 0.4920 - val_loss: 0.3712 - val_output_1_loss: 0.3577 - val_output_2_loss: 0.4925\n",
            "Epoch 29/40\n",
            "363/363 [==============================] - 1s 3ms/step - loss: 0.3521 - output_1_loss: 0.3364 - output_2_loss: 0.4934 - val_loss: 0.3428 - val_output_1_loss: 0.3273 - val_output_2_loss: 0.4819\n",
            "Epoch 30/40\n",
            "363/363 [==============================] - 1s 3ms/step - loss: 0.3469 - output_1_loss: 0.3315 - output_2_loss: 0.4851 - val_loss: 0.3394 - val_output_1_loss: 0.3238 - val_output_2_loss: 0.4803\n",
            "Epoch 31/40\n",
            "363/363 [==============================] - 1s 3ms/step - loss: 0.3461 - output_1_loss: 0.3310 - output_2_loss: 0.4821 - val_loss: 0.3555 - val_output_1_loss: 0.3414 - val_output_2_loss: 0.4819\n",
            "Epoch 32/40\n",
            "363/363 [==============================] - 1s 3ms/step - loss: 0.3459 - output_1_loss: 0.3312 - output_2_loss: 0.4788 - val_loss: 0.3386 - val_output_1_loss: 0.3234 - val_output_2_loss: 0.4747\n",
            "Epoch 33/40\n",
            "363/363 [==============================] - 1s 3ms/step - loss: 0.3455 - output_1_loss: 0.3311 - output_2_loss: 0.4750 - val_loss: 0.4040 - val_output_1_loss: 0.3950 - val_output_2_loss: 0.4853\n",
            "Epoch 34/40\n",
            "363/363 [==============================] - 1s 4ms/step - loss: 0.3427 - output_1_loss: 0.3282 - output_2_loss: 0.4730 - val_loss: 0.3332 - val_output_1_loss: 0.3182 - val_output_2_loss: 0.4681\n",
            "Epoch 35/40\n",
            "363/363 [==============================] - 1s 4ms/step - loss: 0.3419 - output_1_loss: 0.3277 - output_2_loss: 0.4692 - val_loss: 0.3295 - val_output_1_loss: 0.3148 - val_output_2_loss: 0.4622\n",
            "Epoch 36/40\n",
            "363/363 [==============================] - 1s 4ms/step - loss: 0.3388 - output_1_loss: 0.3248 - output_2_loss: 0.4645 - val_loss: 0.3308 - val_output_1_loss: 0.3157 - val_output_2_loss: 0.4667\n",
            "Epoch 37/40\n",
            "363/363 [==============================] - 1s 3ms/step - loss: 0.3382 - output_1_loss: 0.3245 - output_2_loss: 0.4621 - val_loss: 0.3331 - val_output_1_loss: 0.3189 - val_output_2_loss: 0.4601\n",
            "Epoch 38/40\n",
            "363/363 [==============================] - 1s 3ms/step - loss: 0.3364 - output_1_loss: 0.3229 - output_2_loss: 0.4584 - val_loss: 0.3313 - val_output_1_loss: 0.3170 - val_output_2_loss: 0.4604\n",
            "Epoch 39/40\n",
            "363/363 [==============================] - 1s 3ms/step - loss: 0.3351 - output_1_loss: 0.3218 - output_2_loss: 0.4550 - val_loss: 0.3267 - val_output_1_loss: 0.3129 - val_output_2_loss: 0.4510\n",
            "Epoch 40/40\n",
            "363/363 [==============================] - 1s 3ms/step - loss: 0.3356 - output_1_loss: 0.3226 - output_2_loss: 0.4527 - val_loss: 0.3360 - val_output_1_loss: 0.3227 - val_output_2_loss: 0.4555\n"
          ]
        }
      ]
    },
    {
      "cell_type": "code",
      "source": [
        "model.evaluate([X_test_A, X_test_B], [y_test, y_test])\n"
      ],
      "metadata": {
        "colab": {
          "base_uri": "https://localhost:8080/"
        },
        "id": "6bqXZnjd2uA0",
        "outputId": "fb1ac284-61f6-44da-afdb-491c37deadef"
      },
      "execution_count": null,
      "outputs": [
        {
          "output_type": "stream",
          "name": "stdout",
          "text": [
            "162/162 [==============================] - 0s 2ms/step - loss: 0.3657 - output_1_loss: 0.3506 - output_2_loss: 0.5016\n"
          ]
        },
        {
          "output_type": "execute_result",
          "data": {
            "text/plain": [
              "[0.36572638154029846, 0.3506295382976532, 0.5015981197357178]"
            ]
          },
          "metadata": {},
          "execution_count": 9
        }
      ]
    },
    {
      "cell_type": "code",
      "source": [
        "predictions = model.predict([X_new_A, X_new_B])\n"
      ],
      "metadata": {
        "colab": {
          "base_uri": "https://localhost:8080/"
        },
        "id": "enKQeQxa21rl",
        "outputId": "738dd338-281b-4db8-d92e-2cf02c84f040"
      },
      "execution_count": null,
      "outputs": [
        {
          "output_type": "stream",
          "name": "stdout",
          "text": [
            "1/1 [==============================] - 0s 102ms/step\n"
          ]
        }
      ]
    },
    {
      "cell_type": "code",
      "source": [
        "plt.plot(history.history['output_1_loss'], label='Main Train Loss')\n",
        "plt.plot(history.history['val_output_1_loss'], label='Main val Loss')\n",
        "plt.plot(history.history['output_2_loss'], label='Aux Train Loss')\n",
        "plt.plot(history.history['val_output_2_loss'], label='Aux Val Loss')\n",
        "plt.legend()\n",
        "plt.show()\n"
      ],
      "metadata": {
        "colab": {
          "base_uri": "https://localhost:8080/",
          "height": 430
        },
        "id": "yqoYn1Vp22Y0",
        "outputId": "5bf55c35-ba70-4c46-cb4a-fce98861698a"
      },
      "execution_count": null,
      "outputs": [
        {
          "output_type": "display_data",
          "data": {
            "text/plain": [
              "<Figure size 640x480 with 1 Axes>"
            ],
            "image/png": "[encoded data removed]"
          },
          "metadata": {}
        }
      ]
    },
    {
      "cell_type": "code",
      "source": [],
      "metadata": {
        "id": "KAubjpcX25Bs"
      },
      "execution_count": null,
      "outputs": []
    }
  ]
}