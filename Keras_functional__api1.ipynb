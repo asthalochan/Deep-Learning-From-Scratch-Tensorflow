{
  "nbformat": 4,
  "nbformat_minor": 0,
  "metadata": {
    "colab": {
      "provenance": []
    },
    "kernelspec": {
      "name": "python3",
      "display_name": "Python 3"
    },
    "language_info": {
      "name": "python"
    }
  },
  "cells": [
    {
      "cell_type": "markdown",
      "source": [
        "Keras_Functional _API_1"
      ],
      "metadata": {
        "id": "FU0cmrPT2_zh"
      }
    },
    {
      "cell_type": "code",
      "execution_count": null,
      "metadata": {
        "id": "mkM4hjHk7VZO"
      },
      "outputs": [],
      "source": [
        "import tensorflow as tf\n",
        "from tensorflow import keras\n",
        "\n",
        "from sklearn.datasets import fetch_california_housing\n",
        "from sklearn.preprocessing import StandardScaler\n",
        "from sklearn.model_selection import train_test_split"
      ]
    },
    {
      "cell_type": "code",
      "source": [
        "housing = fetch_california_housing()"
      ],
      "metadata": {
        "id": "4kMlMcyM_N2J"
      },
      "execution_count": null,
      "outputs": []
    },
    {
      "cell_type": "code",
      "source": [
        "X_train_full, X_test, y_train_full, y_test = train_test_split(housing.data, housing.target)\n",
        "X_train, X_valid, y_train, y_valid = train_test_split(X_train_full, y_train_full)"
      ],
      "metadata": {
        "id": "wmfhCW9G_bVz"
      },
      "execution_count": null,
      "outputs": []
    },
    {
      "cell_type": "code",
      "source": [
        "scaler = StandardScaler()\n",
        "X_train = scaler.fit_transform(X_train)\n",
        "X_valid = scaler.transform(X_valid)\n",
        "X_test = scaler.transform(X_test)"
      ],
      "metadata": {
        "id": "M05kckXLASQX"
      },
      "execution_count": null,
      "outputs": []
    },
    {
      "cell_type": "code",
      "source": [
        "input_ = keras.layers.Input(shape=X_train.shape[1:])\n",
        "hidden1 = keras.layers.Dense(30, activation=\"relu\")(input_)\n",
        "hidden2 = keras.layers.Dense(30, activation=\"relu\")(hidden1)\n",
        "concat = keras.layers.Concatenate()([input_, hidden2])\n",
        "output = keras.layers.Dense(1)(concat)\n",
        "model = keras.Model(inputs=[input_], outputs=[output])\n"
      ],
      "metadata": {
        "id": "MPCPQy6JAtRD"
      },
      "execution_count": null,
      "outputs": []
    },
    {
      "cell_type": "code",
      "source": [
        "model.summary()"
      ],
      "metadata": {
        "colab": {
          "base_uri": "https://localhost:8080/"
        },
        "id": "l12of9u_BxGT",
        "outputId": "d7da15a0-11a6-4938-fa6e-743625b142cc"
      },
      "execution_count": null,
      "outputs": [
        {
          "output_type": "stream",
          "name": "stdout",
          "text": [
            "Model: \"model\"\n",
            "__________________________________________________________________________________________________\n",
            " Layer (type)                Output Shape                 Param #   Connected to                  \n",
            "==================================================================================================\n",
            " input_1 (InputLayer)        [(None, 8)]                  0         []                            \n",
            "                                                                                                  \n",
            " dense (Dense)               (None, 30)                   270       ['input_1[0][0]']             \n",
            "                                                                                                  \n",
            " dense_1 (Dense)             (None, 30)                   930       ['dense[0][0]']               \n",
            "                                                                                                  \n",
            " concatenate (Concatenate)   (None, 38)                   0         ['input_1[0][0]',             \n",
            "                                                                     'dense_1[0][0]']             \n",
            "                                                                                                  \n",
            " dense_2 (Dense)             (None, 1)                    39        ['concatenate[0][0]']         \n",
            "                                                                                                  \n",
            "==================================================================================================\n",
            "Total params: 1239 (4.84 KB)\n",
            "Trainable params: 1239 (4.84 KB)\n",
            "Non-trainable params: 0 (0.00 Byte)\n",
            "__________________________________________________________________________________________________\n"
          ]
        }
      ]
    },
    {
      "cell_type": "code",
      "source": [
        "model.compile(loss=\"mse\", optimizer=keras.optimizers.SGD(learning_rate=1e-3))\n"
      ],
      "metadata": {
        "id": "yS0alzJ4B0_z"
      },
      "execution_count": null,
      "outputs": []
    },
    {
      "cell_type": "code",
      "source": [
        "history= model.fit(X_train, y_train, epochs=20,validation_data=(X_valid, y_valid))"
      ],
      "metadata": {
        "colab": {
          "base_uri": "https://localhost:8080/"
        },
        "id": "i6NpHNQ0CHww",
        "outputId": "fd6928de-5b34-4778-b0fd-7e6635241891"
      },
      "execution_count": null,
      "outputs": [
        {
          "output_type": "stream",
          "name": "stdout",
          "text": [
            "Epoch 1/20\n",
            "363/363 [==============================] - 3s 6ms/step - loss: 1.8173 - val_loss: 0.7495\n",
            "Epoch 2/20\n",
            "363/363 [==============================] - 2s 4ms/step - loss: 0.6941 - val_loss: 0.6147\n",
            "Epoch 3/20\n",
            "363/363 [==============================] - 2s 5ms/step - loss: 0.6162 - val_loss: 0.5737\n",
            "Epoch 4/20\n",
            "363/363 [==============================] - 2s 4ms/step - loss: 0.5810 - val_loss: 0.5474\n",
            "Epoch 5/20\n",
            "363/363 [==============================] - 2s 4ms/step - loss: 0.5580 - val_loss: 0.5296\n",
            "Epoch 6/20\n",
            "363/363 [==============================] - 3s 7ms/step - loss: 0.5412 - val_loss: 0.5189\n",
            "Epoch 7/20\n",
            "363/363 [==============================] - 3s 9ms/step - loss: 0.5287 - val_loss: 0.5080\n",
            "Epoch 8/20\n",
            "363/363 [==============================] - 3s 7ms/step - loss: 0.5195 - val_loss: 0.5017\n",
            "Epoch 9/20\n",
            "363/363 [==============================] - 2s 6ms/step - loss: 0.5118 - val_loss: 0.4959\n",
            "Epoch 10/20\n",
            "363/363 [==============================] - 1s 4ms/step - loss: 0.5056 - val_loss: 0.4908\n",
            "Epoch 11/20\n",
            "363/363 [==============================] - 2s 6ms/step - loss: 0.4998 - val_loss: 0.4885\n",
            "Epoch 12/20\n",
            "363/363 [==============================] - 1s 3ms/step - loss: 0.4958 - val_loss: 0.4845\n",
            "Epoch 13/20\n",
            "363/363 [==============================] - 2s 6ms/step - loss: 0.4910 - val_loss: 0.4805\n",
            "Epoch 14/20\n",
            "363/363 [==============================] - 2s 4ms/step - loss: 0.4880 - val_loss: 0.4786\n",
            "Epoch 15/20\n",
            "363/363 [==============================] - 1s 3ms/step - loss: 0.4843 - val_loss: 0.4755\n",
            "Epoch 16/20\n",
            "363/363 [==============================] - 1s 2ms/step - loss: 0.4816 - val_loss: 0.4713\n",
            "Epoch 17/20\n",
            "363/363 [==============================] - 1s 3ms/step - loss: 0.4786 - val_loss: 0.4688\n",
            "Epoch 18/20\n",
            "363/363 [==============================] - 1s 2ms/step - loss: 0.4756 - val_loss: 0.4666\n",
            "Epoch 19/20\n",
            "363/363 [==============================] - 1s 3ms/step - loss: 0.4727 - val_loss: 0.4645\n",
            "Epoch 20/20\n",
            "363/363 [==============================] - 1s 2ms/step - loss: 0.4704 - val_loss: 0.4620\n"
          ]
        }
      ]
    },
    {
      "cell_type": "code",
      "source": [
        "mse_test = model.evaluate(X_test, y_test)"
      ],
      "metadata": {
        "colab": {
          "base_uri": "https://localhost:8080/"
        },
        "id": "VkJ7tuT9CVvy",
        "outputId": "c8f56e5b-0196-479b-ea9f-224be8ebb1be"
      },
      "execution_count": null,
      "outputs": [
        {
          "output_type": "stream",
          "name": "stdout",
          "text": [
            "162/162 [==============================] - 0s 2ms/step - loss: 0.4617\n"
          ]
        }
      ]
    },
    {
      "cell_type": "code",
      "source": [
        "mse_test"
      ],
      "metadata": {
        "colab": {
          "base_uri": "https://localhost:8080/"
        },
        "id": "KHjWk22fGW1D",
        "outputId": "c5670c6a-5a76-45d0-e49d-38cc25b2b3e3"
      },
      "execution_count": null,
      "outputs": [
        {
          "output_type": "execute_result",
          "data": {
            "text/plain": [
              "0.461749792098999"
            ]
          },
          "metadata": {},
          "execution_count": 10
        }
      ]
    },
    {
      "cell_type": "code",
      "source": [
        "X_new = X_test[:6]\n",
        "y_pred = model.predict(X_new)"
      ],
      "metadata": {
        "colab": {
          "base_uri": "https://localhost:8080/"
        },
        "id": "B5OKxoEuFJiL",
        "outputId": "11b05b3e-0b92-4c13-ed7c-be418ffec1f3"
      },
      "execution_count": null,
      "outputs": [
        {
          "output_type": "stream",
          "name": "stdout",
          "text": [
            "1/1 [==============================] - 0s 138ms/step\n"
          ]
        }
      ]
    },
    {
      "cell_type": "code",
      "source": [
        "y_pred"
      ],
      "metadata": {
        "colab": {
          "base_uri": "https://localhost:8080/"
        },
        "id": "8E_Y387xGKQc",
        "outputId": "f883d6a5-c877-4aab-b446-b801cc0b1627"
      },
      "execution_count": null,
      "outputs": [
        {
          "output_type": "execute_result",
          "data": {
            "text/plain": [
              "array([[1.8787345],\n",
              "       [2.438755 ],\n",
              "       [0.5518714],\n",
              "       [2.4280853],\n",
              "       [0.8939784],\n",
              "       [1.996474 ]], dtype=float32)"
            ]
          },
          "metadata": {},
          "execution_count": 12
        }
      ]
    },
    {
      "cell_type": "code",
      "source": [
        "X_test[:3]"
      ],
      "metadata": {
        "colab": {
          "base_uri": "https://localhost:8080/"
        },
        "id": "6bI-O52KGMmL",
        "outputId": "1b668459-91d7-42b1-9db7-56196df445ce"
      },
      "execution_count": null,
      "outputs": [
        {
          "output_type": "execute_result",
          "data": {
            "text/plain": [
              "array([[-0.60230292,  1.37876119, -0.78833015, -0.12423542,  1.01496522,\n",
              "         0.00368133, -0.72880119,  0.64574164],\n",
              "       [-0.09755454, -0.37776003, -0.77866131, -0.12106115,  1.06538142,\n",
              "        -0.05095348,  0.82520684, -1.25534142],\n",
              "       [-1.0471972 , -0.21807628, -0.16266995,  0.15801485, -0.62616901,\n",
              "        -0.05909082,  1.9345439 , -1.01148522]])"
            ]
          },
          "metadata": {},
          "execution_count": 13
        }
      ]
    },
    {
      "cell_type": "code",
      "source": [
        "X_train.shape"
      ],
      "metadata": {
        "colab": {
          "base_uri": "https://localhost:8080/"
        },
        "id": "3NxtpJs9GPp7",
        "outputId": "dd055c5c-e14e-4458-8b91-e9f31485b597"
      },
      "execution_count": null,
      "outputs": [
        {
          "output_type": "execute_result",
          "data": {
            "text/plain": [
              "(11610, 8)"
            ]
          },
          "metadata": {},
          "execution_count": 14
        }
      ]
    }
  ]
}