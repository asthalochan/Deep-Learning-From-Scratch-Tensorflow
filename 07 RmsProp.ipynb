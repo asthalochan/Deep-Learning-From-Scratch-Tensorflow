{
  "nbformat": 4,
  "nbformat_minor": 0,
  "metadata": {
    "colab": {
      "provenance": []
    },
    "kernelspec": {
      "name": "python3",
      "display_name": "Python 3"
    },
    "language_info": {
      "name": "python"
    }
  },
  "cells": [
    {
      "cell_type": "markdown",
      "source": [
        "RMSProp"
      ],
      "metadata": {
        "id": "mXX91pgBl3gK"
      }
    },
    {
      "cell_type": "code",
      "execution_count": null,
      "metadata": {
        "id": "8M4RIsNcfdsU"
      },
      "outputs": [],
      "source": [
        "import warnings\n",
        "warnings.filterwarnings('ignore')\n",
        "import random\n",
        "import math\n",
        "import numpy as np\n",
        "from matplotlib import pyplot as plt\n",
        "%matplotlib inline"
      ]
    },
    {
      "cell_type": "code",
      "source": [
        "data = np.random.randn(500,2)\n",
        "theta = np.zeros(2)"
      ],
      "metadata": {
        "id": "tPWjiNO8fjZN"
      },
      "execution_count": null,
      "outputs": []
    },
    {
      "cell_type": "code",
      "source": [
        "def loss_function(data,theta):\n",
        "  m  = theta[0]\n",
        "  b = theta[1]\n",
        "  loss = 0\n",
        "  for i in range (0,len(data)):\n",
        "    x = data[i, 0]\n",
        "    y = data[i, 1]\n",
        "    y_hat = (m * x +  b)\n",
        "    loss = loss + ((y - (y_hat) **2))\n",
        "  mean_sq_loss = loss / float(len(data))\n",
        "  return mean_sq_loss\n",
        "def compute_gradients(data,theta):\n",
        "  gradients = np.zeros(2)\n",
        "  N = float(len(data))\n",
        "  m = theta[0]\n",
        "  b =theta [1]\n",
        "  for i in range (len(data)):\n",
        "    x = data[i, 0]\n",
        "    y = data[i, 1]\n",
        "    gradients[0] += -(2 / N)* x*(y - ((m*x)+b))\n",
        "    gradients[1] += -(2/N) * x * (y - ((theta[0] * x) + b))\n",
        "  epsilon = 1e-6\n",
        "  gradients = np.divide(gradients, N + epsilon)\n",
        "  return gradients"
      ],
      "metadata": {
        "id": "nbb9VYaimrU2"
      },
      "execution_count": null,
      "outputs": []
    },
    {
      "cell_type": "code",
      "source": [
        "def rmsprop(data, theta, learning_rate=0.01, decay_rate=0.99, epsilon=1e-8, num_iterations=100):\n",
        "    cache = np.zeros_like(theta)\n",
        "    losses = []\n",
        "    for iteration in range(num_iterations):\n",
        "        gradients = compute_gradients(data, theta)\n",
        "        cache = decay_rate * cache + (1 - decay_rate) * gradients ** 2\n",
        "        theta -= learning_rate * gradients / (np.sqrt(cache) + epsilon)\n",
        "        loss = loss_function(data, theta)\n",
        "        losses.append(loss)\n",
        "        if iteration % 10 == 0:\n",
        "            print(f\"Iteration {iteration}: Loss = {loss}\")\n",
        "    return losses"
      ],
      "metadata": {
        "id": "zi27T4IdgnAE"
      },
      "execution_count": null,
      "outputs": []
    },
    {
      "cell_type": "code",
      "source": [
        "final_theta, losses = rmsprop(data, theta)\n",
        "plt.plot(range(100), losses)\n",
        "plt.grid()\n",
        "plt.xlabel('Iterations')\n",
        "plt.ylabel('Loss')\n",
        "plt.title('Loss Curve')\n",
        "plt.show()"
      ],
      "metadata": {
        "colab": {
          "base_uri": "https://localhost:8080/",
          "height": 646
        },
        "id": "x61OAlQSke5z",
        "outputId": "878249d8-6349-4d32-cd0a-b13ff4438f18"
      },
      "execution_count": null,
      "outputs": [
        {
          "output_type": "stream",
          "name": "stdout",
          "text": [
            "Iteration 0: Loss = -0.09349625889804758\n",
            "Iteration 10: Loss = -0.07373986713369247\n",
            "Iteration 20: Loss = -0.07373983973472963\n",
            "Iteration 30: Loss = -0.0737398397341326\n",
            "Iteration 40: Loss = -0.0737398397341325\n",
            "Iteration 50: Loss = -0.0737398397341325\n",
            "Iteration 60: Loss = -0.0737398397341325\n",
            "Iteration 70: Loss = -0.0737398397341325\n",
            "Iteration 80: Loss = -0.0737398397341325\n",
            "Iteration 90: Loss = -0.0737398397341325\n"
          ]
        },
        {
          "output_type": "display_data",
          "data": {
            "text/plain": [
              "<Figure size 640x480 with 1 Axes>"
            ],
            "image/png": "[encoded data removed]"
          },
          "metadata": {}
        }
      ]
    },
    {
      "cell_type": "code",
      "source": [
        "print(\"Optimized Parameters (m, b):\", final_theta)"
      ],
      "metadata": {
        "colab": {
          "base_uri": "https://localhost:8080/"
        },
        "id": "gIYW0ThIk_Ly",
        "outputId": "f10b231c-7265-4ef3-d564-851743576652"
      },
      "execution_count": null,
      "outputs": [
        {
          "output_type": "stream",
          "name": "stdout",
          "text": [
            "Optimized Parameters (m, b): [0.02832882 0.02832882]\n"
          ]
        }
      ]
    }
  ]
}