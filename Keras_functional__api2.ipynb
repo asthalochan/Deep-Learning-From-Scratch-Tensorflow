{
  "nbformat": 4,
  "nbformat_minor": 0,
  "metadata": {
    "colab": {
      "provenance": []
    },
    "kernelspec": {
      "name": "python3",
      "display_name": "Python 3"
    },
    "language_info": {
      "name": "python"
    }
  },
  "cells": [
    {
      "cell_type": "markdown",
      "source": [
        "Keras_functional _api 2"
      ],
      "metadata": {
        "id": "R1L3PKwt3OqW"
      }
    },
    {
      "cell_type": "code",
      "execution_count": null,
      "metadata": {
        "id": "mkM4hjHk7VZO"
      },
      "outputs": [],
      "source": [
        "import tensorflow as tf\n",
        "from tensorflow import keras\n",
        "from sklearn.datasets import fetch_california_housing\n",
        "from sklearn.preprocessing import StandardScaler\n",
        "from sklearn.model_selection import train_test_split"
      ]
    },
    {
      "cell_type": "code",
      "source": [
        "housing = fetch_california_housing()"
      ],
      "metadata": {
        "id": "yOh8uq1CJYqk"
      },
      "execution_count": null,
      "outputs": []
    },
    {
      "cell_type": "code",
      "source": [
        "X_train_full, X_test, y_train_full, y_test = train_test_split(housing.data, housing.target)\n",
        "X_train, X_valid, y_train, y_valid = train_test_split(X_train_full, y_train_full)"
      ],
      "metadata": {
        "id": "wmfhCW9G_bVz"
      },
      "execution_count": null,
      "outputs": []
    },
    {
      "cell_type": "code",
      "source": [
        "scaler = StandardScaler()\n",
        "X_train = scaler.fit_transform(X_train)\n",
        "X_valid = scaler.transform(X_valid)\n",
        "X_test = scaler.transform(X_test)"
      ],
      "metadata": {
        "id": "L1pnayb5Jbr7"
      },
      "execution_count": null,
      "outputs": []
    },
    {
      "cell_type": "code",
      "source": [
        "X_train[:,-6:].shape"
      ],
      "metadata": {
        "colab": {
          "base_uri": "https://localhost:8080/"
        },
        "id": "LfZsnXjOLBPj",
        "outputId": "6f50f21a-483b-4f30-f1c2-3d65588dffc3"
      },
      "execution_count": null,
      "outputs": [
        {
          "output_type": "execute_result",
          "data": {
            "text/plain": [
              "(11610, 6)"
            ]
          },
          "metadata": {},
          "execution_count": 5
        }
      ]
    },
    {
      "cell_type": "code",
      "source": [
        "\n",
        "inputA = keras.layers.Input(shape=X_train[:,:5].shape[1])#first 5\n",
        "inputB = keras.layers.Input(shape=X_train[:,-6:].shape[1]) # last 6\n",
        "hidden1 = keras.layers.Dense(30, activation=\"relu\")(inputA)\n",
        "hidden2 = keras.layers.Dense(30, activation=\"relu\")(hidden1)\n",
        "concat = keras.layers.Concatenate()([inputB, hidden2])\n",
        "output = keras.layers.Dense(1)(concat)\n",
        "model = keras.Model(inputs=[inputA,inputB], outputs=[output])"
      ],
      "metadata": {
        "id": "a8rK-8g1Jq6T"
      },
      "execution_count": null,
      "outputs": []
    },
    {
      "cell_type": "code",
      "source": [
        "model.summary()"
      ],
      "metadata": {
        "colab": {
          "base_uri": "https://localhost:8080/"
        },
        "id": "MJCapoMAMdZM",
        "outputId": "d543ddb0-a64e-4ce9-b8fc-2a4706f71e1b"
      },
      "execution_count": null,
      "outputs": [
        {
          "output_type": "stream",
          "name": "stdout",
          "text": [
            "Model: \"model\"\n",
            "__________________________________________________________________________________________________\n",
            " Layer (type)                Output Shape                 Param #   Connected to                  \n",
            "==================================================================================================\n",
            " input_1 (InputLayer)        [(None, 5)]                  0         []                            \n",
            "                                                                                                  \n",
            " dense (Dense)               (None, 30)                   180       ['input_1[0][0]']             \n",
            "                                                                                                  \n",
            " input_2 (InputLayer)        [(None, 6)]                  0         []                            \n",
            "                                                                                                  \n",
            " dense_1 (Dense)             (None, 30)                   930       ['dense[0][0]']               \n",
            "                                                                                                  \n",
            " concatenate (Concatenate)   (None, 36)                   0         ['input_2[0][0]',             \n",
            "                                                                     'dense_1[0][0]']             \n",
            "                                                                                                  \n",
            " dense_2 (Dense)             (None, 1)                    37        ['concatenate[0][0]']         \n",
            "                                                                                                  \n",
            "==================================================================================================\n",
            "Total params: 1147 (4.48 KB)\n",
            "Trainable params: 1147 (4.48 KB)\n",
            "Non-trainable params: 0 (0.00 Byte)\n",
            "__________________________________________________________________________________________________\n"
          ]
        }
      ]
    },
    {
      "cell_type": "code",
      "source": [
        "model.compile(loss=\"mse\", optimizer=keras.optimizers.SGD(learning_rate=1e-3))\n"
      ],
      "metadata": {
        "id": "pmblRnA6Mfmb"
      },
      "execution_count": null,
      "outputs": []
    },
    {
      "cell_type": "code",
      "source": [
        "history= model.fit((X_train[:,:5],X_train[:,-6:]), y_train, epochs=20,validation_data=((X_valid[:,:5],X_valid[:,-6:]), y_valid))"
      ],
      "metadata": {
        "colab": {
          "base_uri": "https://localhost:8080/"
        },
        "id": "rUmyrRcHMjvL",
        "outputId": "24790deb-bee5-4270-9f57-31ceba8b89e6"
      },
      "execution_count": null,
      "outputs": [
        {
          "output_type": "stream",
          "name": "stdout",
          "text": [
            "Epoch 1/20\n",
            "363/363 [==============================] - 3s 6ms/step - loss: 1.9987 - val_loss: 0.8753\n",
            "Epoch 2/20\n",
            "363/363 [==============================] - 3s 8ms/step - loss: 0.7954 - val_loss: 0.7240\n",
            "Epoch 3/20\n",
            "363/363 [==============================] - 2s 5ms/step - loss: 0.7094 - val_loss: 0.6686\n",
            "Epoch 4/20\n",
            "363/363 [==============================] - 1s 4ms/step - loss: 0.6642 - val_loss: 0.6315\n",
            "Epoch 5/20\n",
            "363/363 [==============================] - 2s 5ms/step - loss: 0.6318 - val_loss: 0.6049\n",
            "Epoch 6/20\n",
            "363/363 [==============================] - 2s 5ms/step - loss: 0.6071 - val_loss: 0.5836\n",
            "Epoch 7/20\n",
            "363/363 [==============================] - 2s 5ms/step - loss: 0.5882 - val_loss: 0.5674\n",
            "Epoch 8/20\n",
            "363/363 [==============================] - 2s 6ms/step - loss: 0.5727 - val_loss: 0.5533\n",
            "Epoch 9/20\n",
            "363/363 [==============================] - 3s 9ms/step - loss: 0.5603 - val_loss: 0.5430\n",
            "Epoch 10/20\n",
            "363/363 [==============================] - 3s 7ms/step - loss: 0.5499 - val_loss: 0.5332\n",
            "Epoch 11/20\n",
            "363/363 [==============================] - 2s 5ms/step - loss: 0.5415 - val_loss: 0.5260\n",
            "Epoch 12/20\n",
            "363/363 [==============================] - 2s 4ms/step - loss: 0.5345 - val_loss: 0.5192\n",
            "Epoch 13/20\n",
            "363/363 [==============================] - 2s 4ms/step - loss: 0.5280 - val_loss: 0.5143\n",
            "Epoch 14/20\n",
            "363/363 [==============================] - 1s 3ms/step - loss: 0.5228 - val_loss: 0.5092\n",
            "Epoch 15/20\n",
            "363/363 [==============================] - 1s 2ms/step - loss: 0.5178 - val_loss: 0.5043\n",
            "Epoch 16/20\n",
            "363/363 [==============================] - 1s 3ms/step - loss: 0.5135 - val_loss: 0.5003\n",
            "Epoch 17/20\n",
            "363/363 [==============================] - 1s 3ms/step - loss: 0.5100 - val_loss: 0.4970\n",
            "Epoch 18/20\n",
            "363/363 [==============================] - 1s 2ms/step - loss: 0.5066 - val_loss: 0.4946\n",
            "Epoch 19/20\n",
            "363/363 [==============================] - 1s 3ms/step - loss: 0.5032 - val_loss: 0.4919\n",
            "Epoch 20/20\n",
            "363/363 [==============================] - 1s 3ms/step - loss: 0.5006 - val_loss: 0.4887\n"
          ]
        }
      ]
    },
    {
      "cell_type": "code",
      "source": [
        "mse_test = model.evaluate((X_test[:,:5],X_test[:,-6:]), y_test)"
      ],
      "metadata": {
        "colab": {
          "base_uri": "https://localhost:8080/"
        },
        "id": "lO3N8CNINhb7",
        "outputId": "ed369dfa-228a-4ec7-8354-c0f963378d24"
      },
      "execution_count": null,
      "outputs": [
        {
          "output_type": "stream",
          "name": "stdout",
          "text": [
            "162/162 [==============================] - 0s 1ms/step - loss: 0.4893\n"
          ]
        }
      ]
    },
    {
      "cell_type": "code",
      "source": [
        "mse_test"
      ],
      "metadata": {
        "colab": {
          "base_uri": "https://localhost:8080/"
        },
        "id": "ezq15WTJNinD",
        "outputId": "0262affb-88ef-46f3-aad5-04ae92981dde"
      },
      "execution_count": null,
      "outputs": [
        {
          "output_type": "execute_result",
          "data": {
            "text/plain": [
              "0.4892865717411041"
            ]
          },
          "metadata": {},
          "execution_count": 11
        }
      ]
    },
    {
      "cell_type": "code",
      "source": [
        "predictions = model.predict((X_test[:, :5], X_test[:, -6:]))\n"
      ],
      "metadata": {
        "id": "xkXgLIaGN-I6",
        "outputId": "18e21be6-d191-47c6-d1aa-32a3de4cad2f",
        "colab": {
          "base_uri": "https://localhost:8080/"
        }
      },
      "execution_count": null,
      "outputs": [
        {
          "output_type": "stream",
          "name": "stdout",
          "text": [
            "162/162 [==============================] - 1s 4ms/step\n"
          ]
        }
      ]
    },
    {
      "cell_type": "code",
      "source": [
        "import matplotlib.pyplot as plt\n",
        "plt.plot(history.history['loss'], label='Training Loss')\n",
        "plt.plot(history.history['val_loss'], label='Validation Loss')\n",
        "plt.title('Training and Validation Loss')\n",
        "plt.xlabel('Epoch')\n",
        "plt.ylabel('Loss')\n",
        "plt.legend()\n",
        "plt.show()"
      ],
      "metadata": {
        "id": "zwT1D5FGOAtC",
        "outputId": "958627fd-6887-4e9d-f064-5c98f9d24c51",
        "colab": {
          "base_uri": "https://localhost:8080/",
          "height": 472
        }
      },
      "execution_count": null,
      "outputs": [
        {
          "output_type": "display_data",
          "data": {
            "text/plain": [
              "<Figure size 640x480 with 1 Axes>"
            ],
            "image/png": "[encoded data removed]"
          },
          "metadata": {}
        }
      ]
    },
    {
      "cell_type": "code",
      "source": [],
      "metadata": {
        "id": "ambNZrhDumfO"
      },
      "execution_count": null,
      "outputs": []
    }
  ]
}