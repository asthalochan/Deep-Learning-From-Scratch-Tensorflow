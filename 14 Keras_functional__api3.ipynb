{
  "nbformat": 4,
  "nbformat_minor": 0,
  "metadata": {
    "colab": {
      "provenance": []
    },
    "kernelspec": {
      "name": "python3",
      "display_name": "Python 3"
    },
    "language_info": {
      "name": "python"
    }
  },
  "cells": [
    {
      "cell_type": "markdown",
      "source": [
        "Keras_functional _api3"
      ],
      "metadata": {
        "id": "AM0RRjAc3WHZ"
      }
    },
    {
      "cell_type": "code",
      "execution_count": null,
      "metadata": {
        "id": "Fbs1s2SrksCW"
      },
      "outputs": [],
      "source": [
        "import tensorflow as tf\n",
        "from tensorflow import keras\n",
        "import numpy as np\n",
        "from sklearn.datasets import fetch_california_housing\n",
        "from sklearn.preprocessing import StandardScaler\n",
        "from sklearn.model_selection import train_test_split"
      ]
    },
    {
      "cell_type": "code",
      "source": [
        "housing = fetch_california_housing()"
      ],
      "metadata": {
        "id": "u5o4AHD7kzUB"
      },
      "execution_count": null,
      "outputs": []
    },
    {
      "cell_type": "code",
      "source": [
        "X_train_full, X_test, y_train_full, y_test = train_test_split(housing.data, housing.target)\n",
        "X_train, X_valid, y_train, y_valid = train_test_split(X_train_full, y_train_full)"
      ],
      "metadata": {
        "id": "bYxn58Qvk1qf"
      },
      "execution_count": null,
      "outputs": []
    },
    {
      "cell_type": "code",
      "source": [
        "scaler = StandardScaler()\n",
        "X_train = scaler.fit_transform(X_train)\n",
        "X_valid = scaler.transform(X_valid)\n",
        "X_test = scaler.transform(X_test)"
      ],
      "metadata": {
        "id": "20AIIWyek343"
      },
      "execution_count": null,
      "outputs": []
    },
    {
      "cell_type": "code",
      "source": [
        "X_train[:,-6:].shape"
      ],
      "metadata": {
        "colab": {
          "base_uri": "https://localhost:8080/"
        },
        "id": "CPMo9DPNk5ke",
        "outputId": "4d92c9d9-5da6-434f-8e43-9c4758c0fbba"
      },
      "execution_count": null,
      "outputs": [
        {
          "output_type": "execute_result",
          "data": {
            "text/plain": [
              "(11610, 6)"
            ]
          },
          "metadata": {},
          "execution_count": 5
        }
      ]
    },
    {
      "cell_type": "code",
      "source": [
        "inputA = keras.layers.Input(shape=X_train[:,:5].shape[1])#first 5\n",
        "inputB = keras.layers.Input(shape=X_train[:,-6:].shape[1]) # last 6\n",
        "hidden1 = keras.layers.Dense(30, activation=\"relu\")(inputA)\n",
        "hidden2 = keras.layers.Dense(30, activation=\"relu\")(hidden1)\n",
        "concat = keras.layers.Concatenate()([inputB, hidden2])\n",
        "output1 = keras.layers.Dense(1)(concat)\n",
        "output2 = keras.layers.Dense(1)(hidden2)\n",
        "model = keras.Model(inputs=[inputA,inputB], outputs=[output1,output2])"
      ],
      "metadata": {
        "id": "ThnTp616k8DH"
      },
      "execution_count": null,
      "outputs": []
    },
    {
      "cell_type": "code",
      "source": [
        "model.summary()"
      ],
      "metadata": {
        "colab": {
          "base_uri": "https://localhost:8080/"
        },
        "id": "7jpydPG5l1sZ",
        "outputId": "31d3e713-b633-423c-93a9-fd2874df4465"
      },
      "execution_count": null,
      "outputs": [
        {
          "output_type": "stream",
          "name": "stdout",
          "text": [
            "Model: \"model\"\n",
            "__________________________________________________________________________________________________\n",
            " Layer (type)                Output Shape                 Param #   Connected to                  \n",
            "==================================================================================================\n",
            " input_1 (InputLayer)        [(None, 5)]                  0         []                            \n",
            "                                                                                                  \n",
            " dense (Dense)               (None, 30)                   180       ['input_1[0][0]']             \n",
            "                                                                                                  \n",
            " input_2 (InputLayer)        [(None, 6)]                  0         []                            \n",
            "                                                                                                  \n",
            " dense_1 (Dense)             (None, 30)                   930       ['dense[0][0]']               \n",
            "                                                                                                  \n",
            " concatenate (Concatenate)   (None, 36)                   0         ['input_2[0][0]',             \n",
            "                                                                     'dense_1[0][0]']             \n",
            "                                                                                                  \n",
            " dense_2 (Dense)             (None, 1)                    37        ['concatenate[0][0]']         \n",
            "                                                                                                  \n",
            " dense_3 (Dense)             (None, 1)                    31        ['dense_1[0][0]']             \n",
            "                                                                                                  \n",
            "==================================================================================================\n",
            "Total params: 1178 (4.60 KB)\n",
            "Trainable params: 1178 (4.60 KB)\n",
            "Non-trainable params: 0 (0.00 Byte)\n",
            "__________________________________________________________________________________________________\n"
          ]
        }
      ]
    },
    {
      "cell_type": "code",
      "source": [
        "model.compile(loss=[\"mse\",\"mse\"] , optimizer=keras.optimizers.SGD(learning_rate=1e-3))"
      ],
      "metadata": {
        "id": "SCDeITmbl38g"
      },
      "execution_count": null,
      "outputs": []
    },
    {
      "cell_type": "code",
      "source": [
        "history= model.fit((X_train[:,:5],X_train[:,-6:]), y_train, epochs=40,validation_data=((X_valid[:,:5],X_valid[:,-6:]), y_valid))"
      ],
      "metadata": {
        "colab": {
          "base_uri": "https://localhost:8080/"
        },
        "id": "YW9m2wkSl9TP",
        "outputId": "68622a07-b32f-4450-fd93-c101565c62d9"
      },
      "execution_count": null,
      "outputs": [
        {
          "output_type": "stream",
          "name": "stdout",
          "text": [
            "Epoch 1/40\n",
            "363/363 [==============================] - 2s 3ms/step - loss: 3.7758 - dense_2_loss: 2.0102 - dense_3_loss: 1.7656 - val_loss: 1.5469 - val_dense_2_loss: 0.7680 - val_dense_3_loss: 0.7789\n",
            "Epoch 2/40\n",
            "363/363 [==============================] - 1s 3ms/step - loss: 1.5453 - dense_2_loss: 0.7719 - dense_3_loss: 0.7734 - val_loss: 1.3762 - val_dense_2_loss: 0.6762 - val_dense_3_loss: 0.7000\n",
            "Epoch 3/40\n",
            "363/363 [==============================] - 2s 6ms/step - loss: 1.4168 - dense_2_loss: 0.6954 - dense_3_loss: 0.7214 - val_loss: 1.2988 - val_dense_2_loss: 0.6351 - val_dense_3_loss: 0.6637\n",
            "Epoch 4/40\n",
            "363/363 [==============================] - 2s 6ms/step - loss: 1.3445 - dense_2_loss: 0.6549 - dense_3_loss: 0.6896 - val_loss: 1.2438 - val_dense_2_loss: 0.6049 - val_dense_3_loss: 0.6389\n",
            "Epoch 5/40\n",
            "363/363 [==============================] - 3s 9ms/step - loss: 1.2935 - dense_2_loss: 0.6266 - dense_3_loss: 0.6669 - val_loss: 1.1982 - val_dense_2_loss: 0.5804 - val_dense_3_loss: 0.6178\n",
            "Epoch 6/40\n",
            "363/363 [==============================] - 2s 7ms/step - loss: 1.2535 - dense_2_loss: 0.6046 - dense_3_loss: 0.6489 - val_loss: 1.1650 - val_dense_2_loss: 0.5620 - val_dense_3_loss: 0.6030\n",
            "Epoch 7/40\n",
            "363/363 [==============================] - 2s 6ms/step - loss: 1.2214 - dense_2_loss: 0.5870 - dense_3_loss: 0.6344 - val_loss: 1.1369 - val_dense_2_loss: 0.5470 - val_dense_3_loss: 0.5900\n",
            "Epoch 8/40\n",
            "363/363 [==============================] - 2s 7ms/step - loss: 1.1962 - dense_2_loss: 0.5732 - dense_3_loss: 0.6230 - val_loss: 1.1141 - val_dense_2_loss: 0.5347 - val_dense_3_loss: 0.5793\n",
            "Epoch 9/40\n",
            "363/363 [==============================] - 3s 7ms/step - loss: 1.1751 - dense_2_loss: 0.5624 - dense_3_loss: 0.6127 - val_loss: 1.0981 - val_dense_2_loss: 0.5261 - val_dense_3_loss: 0.5720\n",
            "Epoch 10/40\n",
            "363/363 [==============================] - 4s 10ms/step - loss: 1.1581 - dense_2_loss: 0.5532 - dense_3_loss: 0.6049 - val_loss: 1.0830 - val_dense_2_loss: 0.5183 - val_dense_3_loss: 0.5647\n",
            "Epoch 11/40\n",
            "363/363 [==============================] - 3s 9ms/step - loss: 1.1442 - dense_2_loss: 0.5459 - dense_3_loss: 0.5983 - val_loss: 1.0707 - val_dense_2_loss: 0.5114 - val_dense_3_loss: 0.5593\n",
            "Epoch 12/40\n",
            "363/363 [==============================] - 2s 6ms/step - loss: 1.1305 - dense_2_loss: 0.5384 - dense_3_loss: 0.5921 - val_loss: 1.0595 - val_dense_2_loss: 0.5059 - val_dense_3_loss: 0.5536\n",
            "Epoch 13/40\n",
            "363/363 [==============================] - 2s 4ms/step - loss: 1.1182 - dense_2_loss: 0.5314 - dense_3_loss: 0.5869 - val_loss: 1.0502 - val_dense_2_loss: 0.5009 - val_dense_3_loss: 0.5493\n",
            "Epoch 14/40\n",
            "363/363 [==============================] - 2s 7ms/step - loss: 1.1112 - dense_2_loss: 0.5285 - dense_3_loss: 0.5828 - val_loss: 1.0419 - val_dense_2_loss: 0.4963 - val_dense_3_loss: 0.5456\n",
            "Epoch 15/40\n",
            "363/363 [==============================] - 3s 7ms/step - loss: 1.1001 - dense_2_loss: 0.5216 - dense_3_loss: 0.5785 - val_loss: 1.0335 - val_dense_2_loss: 0.4919 - val_dense_3_loss: 0.5416\n",
            "Epoch 16/40\n",
            "363/363 [==============================] - 4s 12ms/step - loss: 1.0943 - dense_2_loss: 0.5192 - dense_3_loss: 0.5752 - val_loss: 1.0264 - val_dense_2_loss: 0.4878 - val_dense_3_loss: 0.5385\n",
            "Epoch 17/40\n",
            "363/363 [==============================] - 3s 9ms/step - loss: 1.0874 - dense_2_loss: 0.5153 - dense_3_loss: 0.5720 - val_loss: 1.0213 - val_dense_2_loss: 0.4853 - val_dense_3_loss: 0.5360\n",
            "Epoch 18/40\n",
            "363/363 [==============================] - 2s 5ms/step - loss: 1.0794 - dense_2_loss: 0.5105 - dense_3_loss: 0.5689 - val_loss: 1.0147 - val_dense_2_loss: 0.4818 - val_dense_3_loss: 0.5329\n",
            "Epoch 19/40\n",
            "363/363 [==============================] - 2s 5ms/step - loss: 1.0741 - dense_2_loss: 0.5081 - dense_3_loss: 0.5660 - val_loss: 1.0113 - val_dense_2_loss: 0.4799 - val_dense_3_loss: 0.5314\n",
            "Epoch 20/40\n",
            "363/363 [==============================] - 2s 6ms/step - loss: 1.0671 - dense_2_loss: 0.5038 - dense_3_loss: 0.5633 - val_loss: 1.0057 - val_dense_2_loss: 0.4771 - val_dense_3_loss: 0.5286\n",
            "Epoch 21/40\n",
            "363/363 [==============================] - 3s 7ms/step - loss: 1.0635 - dense_2_loss: 0.5024 - dense_3_loss: 0.5611 - val_loss: 1.0008 - val_dense_2_loss: 0.4744 - val_dense_3_loss: 0.5264\n",
            "Epoch 22/40\n",
            "363/363 [==============================] - 4s 11ms/step - loss: 1.0574 - dense_2_loss: 0.4991 - dense_3_loss: 0.5583 - val_loss: 0.9949 - val_dense_2_loss: 0.4714 - val_dense_3_loss: 0.5235\n",
            "Epoch 23/40\n",
            "363/363 [==============================] - 3s 9ms/step - loss: 1.0520 - dense_2_loss: 0.4959 - dense_3_loss: 0.5561 - val_loss: 0.9918 - val_dense_2_loss: 0.4700 - val_dense_3_loss: 0.5218\n",
            "Epoch 24/40\n",
            "363/363 [==============================] - 2s 7ms/step - loss: 1.0485 - dense_2_loss: 0.4942 - dense_3_loss: 0.5543 - val_loss: 0.9884 - val_dense_2_loss: 0.4679 - val_dense_3_loss: 0.5205\n",
            "Epoch 25/40\n",
            "363/363 [==============================] - 1s 3ms/step - loss: 1.0426 - dense_2_loss: 0.4905 - dense_3_loss: 0.5521 - val_loss: 0.9836 - val_dense_2_loss: 0.4653 - val_dense_3_loss: 0.5183\n",
            "Epoch 26/40\n",
            "363/363 [==============================] - 1s 3ms/step - loss: 1.0383 - dense_2_loss: 0.4884 - dense_3_loss: 0.5499 - val_loss: 0.9802 - val_dense_2_loss: 0.4635 - val_dense_3_loss: 0.5167\n",
            "Epoch 27/40\n",
            "363/363 [==============================] - 1s 3ms/step - loss: 1.0336 - dense_2_loss: 0.4856 - dense_3_loss: 0.5480 - val_loss: 0.9783 - val_dense_2_loss: 0.4626 - val_dense_3_loss: 0.5157\n",
            "Epoch 28/40\n",
            "363/363 [==============================] - 1s 3ms/step - loss: 1.0303 - dense_2_loss: 0.4841 - dense_3_loss: 0.5462 - val_loss: 0.9737 - val_dense_2_loss: 0.4601 - val_dense_3_loss: 0.5136\n",
            "Epoch 29/40\n",
            "363/363 [==============================] - 1s 3ms/step - loss: 1.0262 - dense_2_loss: 0.4815 - dense_3_loss: 0.5447 - val_loss: 0.9692 - val_dense_2_loss: 0.4578 - val_dense_3_loss: 0.5114\n",
            "Epoch 30/40\n",
            "363/363 [==============================] - 1s 3ms/step - loss: 1.0223 - dense_2_loss: 0.4796 - dense_3_loss: 0.5427 - val_loss: 0.9665 - val_dense_2_loss: 0.4562 - val_dense_3_loss: 0.5103\n",
            "Epoch 31/40\n",
            "363/363 [==============================] - 1s 4ms/step - loss: 1.0202 - dense_2_loss: 0.4790 - dense_3_loss: 0.5412 - val_loss: 0.9649 - val_dense_2_loss: 0.4556 - val_dense_3_loss: 0.5093\n",
            "Epoch 32/40\n",
            "363/363 [==============================] - 1s 4ms/step - loss: 1.0158 - dense_2_loss: 0.4765 - dense_3_loss: 0.5394 - val_loss: 0.9621 - val_dense_2_loss: 0.4545 - val_dense_3_loss: 0.5076\n",
            "Epoch 33/40\n",
            "363/363 [==============================] - 1s 4ms/step - loss: 1.0124 - dense_2_loss: 0.4743 - dense_3_loss: 0.5381 - val_loss: 0.9586 - val_dense_2_loss: 0.4525 - val_dense_3_loss: 0.5062\n",
            "Epoch 34/40\n",
            "363/363 [==============================] - 1s 3ms/step - loss: 1.0100 - dense_2_loss: 0.4734 - dense_3_loss: 0.5366 - val_loss: 0.9552 - val_dense_2_loss: 0.4508 - val_dense_3_loss: 0.5044\n",
            "Epoch 35/40\n",
            "363/363 [==============================] - 1s 3ms/step - loss: 1.0070 - dense_2_loss: 0.4720 - dense_3_loss: 0.5350 - val_loss: 0.9533 - val_dense_2_loss: 0.4499 - val_dense_3_loss: 0.5034\n",
            "Epoch 36/40\n",
            "363/363 [==============================] - 1s 3ms/step - loss: 1.0037 - dense_2_loss: 0.4702 - dense_3_loss: 0.5335 - val_loss: 0.9527 - val_dense_2_loss: 0.4497 - val_dense_3_loss: 0.5030\n",
            "Epoch 37/40\n",
            "363/363 [==============================] - 1s 3ms/step - loss: 1.0013 - dense_2_loss: 0.4688 - dense_3_loss: 0.5324 - val_loss: 0.9506 - val_dense_2_loss: 0.4486 - val_dense_3_loss: 0.5020\n",
            "Epoch 38/40\n",
            "363/363 [==============================] - 1s 3ms/step - loss: 0.9993 - dense_2_loss: 0.4681 - dense_3_loss: 0.5313 - val_loss: 0.9477 - val_dense_2_loss: 0.4471 - val_dense_3_loss: 0.5006\n",
            "Epoch 39/40\n",
            "363/363 [==============================] - 1s 3ms/step - loss: 0.9955 - dense_2_loss: 0.4657 - dense_3_loss: 0.5298 - val_loss: 0.9463 - val_dense_2_loss: 0.4463 - val_dense_3_loss: 0.5000\n",
            "Epoch 40/40\n",
            "363/363 [==============================] - 1s 3ms/step - loss: 0.9940 - dense_2_loss: 0.4652 - dense_3_loss: 0.5288 - val_loss: 0.9441 - val_dense_2_loss: 0.4452 - val_dense_3_loss: 0.4989\n"
          ]
        }
      ]
    },
    {
      "cell_type": "code",
      "source": [
        "mse_test = model.evaluate((X_test[:,:5],X_test[:,-6:]), [y_test, y_test])"
      ],
      "metadata": {
        "colab": {
          "base_uri": "https://localhost:8080/"
        },
        "id": "asPdUuKymkpI",
        "outputId": "be3fd14c-3dc2-418b-bed2-dc4bb6f880b0"
      },
      "execution_count": null,
      "outputs": [
        {
          "output_type": "stream",
          "name": "stdout",
          "text": [
            "162/162 [==============================] - 0s 2ms/step - loss: 0.9899 - dense_2_loss: 0.4630 - dense_3_loss: 0.5269\n"
          ]
        }
      ]
    },
    {
      "cell_type": "code",
      "source": [
        "mse_output1_test = mse_test[1]\n",
        "mse_output2_test = mse_test[2]\n",
        "print(f'Mean Squared Error for Output 1 on Test Set: {mse_output1_test}')\n",
        "print(f'Mean Squared Error for Output 2 on Test Set: {mse_output2_test}')"
      ],
      "metadata": {
        "colab": {
          "base_uri": "https://localhost:8080/"
        },
        "id": "SnZAfj8hmo0o",
        "outputId": "73fc176e-cb19-4797-8bb5-5ed90689ba24"
      },
      "execution_count": null,
      "outputs": [
        {
          "output_type": "stream",
          "name": "stdout",
          "text": [
            "Mean Squared Error for Output 1 on Test Set: 0.4629931151866913\n",
            "Mean Squared Error for Output 2 on Test Set: 0.5268945097923279\n"
          ]
        }
      ]
    },
    {
      "cell_type": "code",
      "source": [
        "predictions = model.predict((X_test[:, :5], X_test[:, -6:]))"
      ],
      "metadata": {
        "colab": {
          "base_uri": "https://localhost:8080/"
        },
        "id": "_Vtv7H6umxG3",
        "outputId": "0463d0a8-cb7b-424b-ebc3-2dc8c35b2580"
      },
      "execution_count": null,
      "outputs": [
        {
          "output_type": "stream",
          "name": "stdout",
          "text": [
            "162/162 [==============================] - 0s 2ms/step\n"
          ]
        }
      ]
    },
    {
      "cell_type": "code",
      "source": [
        "import matplotlib.pyplot as plt\n",
        "plt.plot(history.history['loss'], label='Training Loss')\n",
        "plt.plot(history.history['val_loss'], label='Validation Loss')\n",
        "plt.title('Training and Validation Loss')\n",
        "plt.xlabel('Epoch')\n",
        "plt.ylabel('Loss')\n",
        "plt.legend()\n",
        "plt.show()\n"
      ],
      "metadata": {
        "colab": {
          "base_uri": "https://localhost:8080/",
          "height": 472
        },
        "id": "UXu1lwlAtGQ2",
        "outputId": "c03b5ba2-ca44-48d5-8cb5-0ef249edb68c"
      },
      "execution_count": null,
      "outputs": [
        {
          "output_type": "display_data",
          "data": {
            "text/plain": [
              "<Figure size 640x480 with 1 Axes>"
            ],
            "image/png": "[encoded data removed]"
          },
          "metadata": {}
        }
      ]
    }
  ]
}