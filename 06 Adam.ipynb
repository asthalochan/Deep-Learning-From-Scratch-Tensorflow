{
  "nbformat": 4,
  "nbformat_minor": 0,
  "metadata": {
    "colab": {
      "provenance": []
    },
    "kernelspec": {
      "name": "python3",
      "display_name": "Python 3"
    },
    "language_info": {
      "name": "python"
    }
  },
  "cells": [
    {
      "cell_type": "markdown",
      "source": [
        "**Adam**"
      ],
      "metadata": {
        "id": "y8PpsNmBnTvK"
      }
    },
    {
      "cell_type": "code",
      "execution_count": null,
      "metadata": {
        "id": "ukizhdHcDXut"
      },
      "outputs": [],
      "source": [
        "import warnings\n",
        "warnings.filterwarnings('ignore')\n",
        "\n",
        "import random\n",
        "import math\n",
        "import numpy as np\n",
        "from matplotlib import pyplot as plt\n",
        "%matplotlib inline"
      ]
    },
    {
      "cell_type": "code",
      "source": [
        "data = np.random.randn(500,2)\n",
        "theta = np.zeros(2)"
      ],
      "metadata": {
        "id": "BPvb9iWKE0V5"
      },
      "execution_count": null,
      "outputs": []
    },
    {
      "cell_type": "code",
      "source": [
        "def loss_function(data,theta):\n",
        "\n",
        "  m  = theta[0]\n",
        "  b = theta[1]\n",
        "\n",
        "  loss = 0\n",
        "\n",
        "  for i in range (0,len(data)):\n",
        "    x = data[i, 0]\n",
        "    y = data[i, 1]\n",
        "\n",
        "    y_hat = (m * x +  b)\n",
        "\n",
        "\n",
        "    loss = loss + ((y - (y_hat) **2))\n",
        "\n",
        "  mean_sq_loss = loss / float(len(data))\n",
        "\n",
        "  return mean_sq_loss\n",
        "\n",
        "def compute_gradients(data,theta):\n",
        "  gradients = np.zeros(2)\n",
        "\n",
        "\n",
        "  N = float(len(data))\n",
        "\n",
        "  m = theta[0]\n",
        "  b =theta [1]\n",
        "\n",
        "\n",
        "  for i in range (len(data)):\n",
        "\n",
        "    x = data[i, 0]\n",
        "    y = data[i, 1]\n",
        "\n",
        "\n",
        "    gradients[0] += -(2 / N)* x*(y - ((m*x)+b))\n",
        "    gradients[1] += -(2/N) * x * (y - ((theta[0] * x) + b))\n",
        "\n",
        "\n",
        "  epsilon = 1e-6\n",
        "\n",
        "  gradients = np.divide(gradients, N + epsilon)\n",
        "\n",
        "\n",
        "  return gradients\n"
      ],
      "metadata": {
        "id": "hSVqHIToE2uQ"
      },
      "execution_count": null,
      "outputs": []
    },
    {
      "cell_type": "code",
      "source": [
        "\n",
        "\n",
        "def adam_optimizer(data, theta, num_iterations=1000, learning_rate=0.001, beta1=0.9, beta2=0.999, epsilon=1e-8):\n",
        "\n",
        "    m_t = np.zeros(2)\n",
        "    v_t = np.zeros(2)\n",
        "\n",
        "    t = 0\n",
        "    loss_history = []\n",
        "\n",
        "    for iteration in range(num_iterations):\n",
        "        t += 1\n",
        "        gradients = compute_gradients(data, theta)\n",
        "\n",
        "\n",
        "        m_t = beta1 * m_t + (1 - beta1) * gradients\n",
        "        v_t = beta2 * v_t + (1 - beta2) * (gradients ** 2)\n",
        "\n",
        "\n",
        "        m_hat = m_t / (1 - beta1 ** t)\n",
        "        v_hat = v_t / (1 - beta2 ** t)\n",
        "\n",
        "\n",
        "        theta -= learning_rate * m_hat / (np.sqrt(v_hat) + epsilon)\n",
        "\n",
        "\n",
        "        loss = loss_function(data, theta)\n",
        "        loss_history.append(loss)\n",
        "\n",
        "    return loss_history, theta\n"
      ],
      "metadata": {
        "id": "Pi3Iz5gOE45w"
      },
      "execution_count": null,
      "outputs": []
    },
    {
      "cell_type": "code",
      "source": [
        "data = np.random.randn(500, 2)\n",
        "theta = np.zeros(2)\n",
        "loss_history, final_theta = adam_optimizer(data, theta)"
      ],
      "metadata": {
        "id": "J2JWrdVtJgU4"
      },
      "execution_count": null,
      "outputs": []
    },
    {
      "cell_type": "code",
      "source": [
        "plt.plot(loss_history)\n",
        "plt.xlabel('Iteration')\n",
        "plt.ylabel('Loss')\n",
        "plt.title('Adam Optimization')\n",
        "plt.show()"
      ],
      "metadata": {
        "colab": {
          "base_uri": "https://localhost:8080/",
          "height": 472
        },
        "id": "CswLsr1aJkOG",
        "outputId": "2dd31851-fefc-442f-a12c-757e9b09377c"
      },
      "execution_count": null,
      "outputs": [
        {
          "output_type": "display_data",
          "data": {
            "text/plain": [
              "<Figure size 640x480 with 1 Axes>"
            ],
            "image/png": "[encoded data removed]"
          },
          "metadata": {}
        }
      ]
    },
    {
      "cell_type": "code",
      "source": [
        "print(f\"Final parameters: m = {final_theta[0]}, b = {final_theta[1]}\")"
      ],
      "metadata": {
        "colab": {
          "base_uri": "https://localhost:8080/"
        },
        "id": "d2vhbJpEKaa9",
        "outputId": "293669d9-198e-4726-eb1b-2d1de92c2f9e"
      },
      "execution_count": null,
      "outputs": [
        {
          "output_type": "stream",
          "name": "stdout",
          "text": [
            "Final parameters: m = -0.014197100091024735, b = -0.014197100091024735\n"
          ]
        }
      ]
    }
  ]
}