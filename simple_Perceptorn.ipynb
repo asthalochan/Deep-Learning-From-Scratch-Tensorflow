{
  "nbformat": 4,
  "nbformat_minor": 0,
  "metadata": {
    "colab": {
      "provenance": []
    },
    "kernelspec": {
      "name": "python3",
      "display_name": "Python 3"
    },
    "language_info": {
      "name": "python"
    }
  },
  "cells": [
    {
      "cell_type": "code",
      "source": [
        "import numpy as np\n",
        "import pandas as pd"
      ],
      "metadata": {
        "id": "fta5MlFgOGMS"
      },
      "execution_count": null,
      "outputs": []
    },
    {
      "cell_type": "code",
      "execution_count": null,
      "metadata": {
        "id": "F1Fq-KADM_5U"
      },
      "outputs": [],
      "source": [
        "def signumFun(v):\n",
        "  if v> 0:\n",
        "    return 1\n",
        "  else:\n",
        "    return -1\n",
        ""
      ]
    },
    {
      "cell_type": "code",
      "source": [
        "def perceptronmodel(x,w):\n",
        "  v=np.dot(np.transpose(w),x)\n",
        "  y=signumFun(v)\n",
        "  return y"
      ],
      "metadata": {
        "id": "RoWe3AZXN8Qk"
      },
      "execution_count": null,
      "outputs": []
    },
    {
      "cell_type": "code",
      "source": [
        "x1=np.array([1,1,-2,0])\n",
        "x2=np.array([1,0,1.5,-0.5])\n",
        "x3=np.array([1,-1,1,0.5])\n",
        "d=np.array([-1,-1,1])\n",
        "\n",
        "w_old=np.array([-0.5,1,-1,0])\n",
        "n=0.1\n",
        "w_new=w_old\n",
        "\n",
        "j=0\n",
        "\n",
        "for i in range(1):\n",
        "  y= perceptronmodel(x1,w_new)\n",
        "  w_new=w_new+n*pd.Series([d[j]-y]*x1)\n",
        "\n",
        "  j=j+1\n",
        "  y= perceptronmodel(x2,w_new)\n",
        "  w_new=w_new+n*pd.Series([d[j]-y]*x2)\n",
        "\n",
        "  j=j+1\n",
        "  y= perceptronmodel(x3,w_new)\n",
        "  w_new=w_new+n*pd.Series([d[j]-y]*x3)\n",
        "\n",
        "  j=0\n",
        "\n",
        "print(w_new)"
      ],
      "metadata": {
        "colab": {
          "base_uri": "https://localhost:8080/"
        },
        "id": "0uMRgE1SOXzI",
        "outputId": "ee97f86b-bc64-4e0c-d3c8-9c95e0630fe8"
      },
      "execution_count": null,
      "outputs": [
        {
          "output_type": "stream",
          "name": "stdout",
          "text": [
            "0   -0.5\n",
            "1    0.6\n",
            "2   -0.4\n",
            "3    0.1\n",
            "dtype: float64\n"
          ]
        }
      ]
    },
    {
      "cell_type": "code",
      "source": [],
      "metadata": {
        "id": "wvtZKFcEY_mz"
      },
      "execution_count": null,
      "outputs": []
    }
  ]
}