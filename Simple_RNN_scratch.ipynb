{
  "nbformat": 4,
  "nbformat_minor": 0,
  "metadata": {
    "colab": {
      "provenance": []
    },
    "kernelspec": {
      "name": "python3",
      "display_name": "Python 3"
    },
    "language_info": {
      "name": "python"
    }
  },
  "cells": [
    {
      "cell_type": "markdown",
      "source": [
        "Simple_RNN_scratch."
      ],
      "metadata": {
        "id": "_bdZzZX6tdWs"
      }
    },
    {
      "cell_type": "code",
      "source": [
        "def bin2int(bin_list):\n",
        "  int_val = \"\"\n",
        "  for k in bin_list:\n",
        "    int_val += str(int(k))\n",
        "  return int(int_val,2)"
      ],
      "metadata": {
        "id": "BEjjKhqNsSzi"
      },
      "execution_count": null,
      "outputs": []
    },
    {
      "cell_type": "code",
      "source": [
        "def dataset(num):\n",
        "  bin_len = 8\n",
        "  X = np.zeros((num,bin_len))\n",
        "  Y = np.zeros((num))\n",
        "  for i in range (num):\n",
        "    X[i] = np.round(np.random.rand(bin_len)).astype(int)\n",
        "    Y[i] = bin2int(X[i])\n",
        "  return X,Y"
      ],
      "metadata": {
        "id": "C-6PVQzotqPL"
      },
      "execution_count": null,
      "outputs": []
    },
    {
      "cell_type": "code",
      "source": [
        "no_of_samples = 20\n",
        "trainX,trainY = dataset(no_of_samples)\n",
        "testX,testY = dataset(5)"
      ],
      "metadata": {
        "id": "0i5IjSxeuP_1"
      },
      "execution_count": null,
      "outputs": []
    },
    {
      "cell_type": "code",
      "source": [
        "class RNN:\n",
        "  def __init__(self):\n",
        "    self.w = [1,1]\n",
        "    self.w_delta = [0.001, 0.001]\n",
        "    self.w_sign = [0,0]\n",
        "    self.eta_p = 1.2\n",
        "    self.eta_n = 0.5\n",
        "  def state (self, xk, sk):\n",
        "    return xk * self.w[0] + sk * self.w[1]\n",
        "  def forward_states(self, X):\n",
        "    S = np.zeros((X.shape[0], X.shape[1] + 1))\n",
        "    for k in range(0, X.shape[1]):\n",
        "      next_state = self.state(X[:,k], S[:,k])\n",
        "      S[:, k+1] = next_state\n",
        "    return S\n",
        "  def output_gradient(self,guess, real):\n",
        "    return 2 * (guess - real) / no_of_samples\n",
        "  def backward_gradient(self, X, S, grad_out):\n",
        "    grad_over_time = np.zeros((X.shape[0], X.shape[1] + 1))\n",
        "    grad_over_time[:,-1] = grad_out\n",
        "    wx_grad = 0\n",
        "    wr_grad = 0\n",
        "    for k in range(X.shape[1],0 , -1):\n",
        "      wx_grad += np.sum (grad_over_time[:,k] * X[:,k-1])\n",
        "      wr_grad += np.sum (grad_over_time[:,k] * S[:,k-1])\n",
        "      grad_over_time[:, k-1] = grad_over_time[:, k] * self.w[1]\n",
        "    return (wx_grad, wr_grad), grad_over_time\n",
        "  def update_rprop(self, X,Y, w_prev_sign, w_delta):\n",
        "    S = self.forward_states(X)\n",
        "    grad_out = self.output_gradient(S[:, -1] , Y)\n",
        "    w_grads, _ = self.backward_gradient(X, S, grad_out)\n",
        "    self.w_sign = np.sign(w_grads)\n",
        "    for i, _ in enumerate(self.w):\n",
        "      if self.w_sign[i] == w_prev_sign[i] :\n",
        "        w_delta[i] *= self.eta_p\n",
        "      else:\n",
        "        w_delta[i] *= self.eta_n\n",
        "    self.w_delta = w_delta\n",
        "  def train(self, X, Y, training_epoches):\n",
        "    for epoches in range(training_epoches):\n",
        "      self.update_rprop(X, Y, self.w_sign, self.w_delta)\n",
        "      for i, _ in enumerate(self.w):\n",
        "        self.w[i]  -= self.w_sign[i] * self.w_delta[i]"
      ],
      "metadata": {
        "id": "xKjNH8YRug6n"
      },
      "execution_count": null,
      "outputs": []
    },
    {
      "cell_type": "code",
      "source": [
        "rnn = RNN()\n",
        "rnn.train(trainX, trainY, 20000)\n",
        "print(\"weight: \\t\", rnn.w)\n",
        "print(\" Real: \\t\", testY)"
      ],
      "metadata": {
        "colab": {
          "base_uri": "https://localhost:8080/"
        },
        "id": "x4ZzOT_t0dMe",
        "outputId": "e99a1875-3150-4bab-8c3f-bf1e0650ff78"
      },
      "execution_count": null,
      "outputs": [
        {
          "output_type": "stream",
          "name": "stdout",
          "text": [
            "weight: \t [1.0000000002263607, 1.9999999999274327]\n",
            " Real: \t [ 48. 219. 138.  92. 243.]\n"
          ]
        }
      ]
    }
  ]
}